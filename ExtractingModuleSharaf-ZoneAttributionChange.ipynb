{
 "cells": [
  {
   "cell_type": "code",
   "execution_count": 2,
   "metadata": {
    "collapsed": true
   },
   "outputs": [],
   "source": [
    "from __future__ import division\n",
    "from pyspark import SparkConf, SparkContext\n",
    "from pyspark.sql import SQLContext\n",
    "sqlContext = SQLContext(sc)\n",
    "from  operator import add\n",
    "import datetime\n",
    "from operator import itemgetter"
   ]
  },
  {
   "cell_type": "code",
   "execution_count": 333,
   "metadata": {
    "collapsed": true
   },
   "outputs": [],
   "source": [
    "# Functions for extracting:\n",
    "def parse(row):\n",
    "    serialNumber = str(row.value.serialNumber)\n",
    "    timestamp = row.time\n",
    "    if row.value.zone is not None:\n",
    "        zone = str(row.value.zone.value.name)\n",
    "    else:\n",
    "        zone = None\n",
    "    if row.value.sGroup is not None:\n",
    "        group = str(row.value.sGroup.value)\n",
    "    else:\n",
    "        group = None  # -> No group???\n",
    "    if row.value.status is not None:\n",
    "        if str(row.value.status.value) == 'Sold':\n",
    "            status = int(1)\n",
    "        else:\n",
    "            status = int(0)\n",
    "    else:\n",
    "        status = int(0)\n",
    "        # if row.value.itemcode is not None:\n",
    "        #   itemcode=str(row.itemcode.value)\n",
    "        # else:\n",
    "        #   itemcode=None\n",
    "    return [serialNumber, timestamp, zone, group, status]\n",
    "\n",
    "\n",
    "def summarize_serial(x, y):\n",
    "    # Assign to first_date the first blink row:\n",
    "    last_date = max(x[0], y[0])\n",
    "    if last_date == x[0]:\n",
    "        first_line = y\n",
    "        last_line = x\n",
    "    elif last_date == y[0]:\n",
    "        first_line = x\n",
    "        last_line = y\n",
    "    timeSpent=x-y\n",
    "    \n",
    "    \n",
    "    status = last_line[3]\n",
    "    zone = first_line[1]\n",
    "    group = last_line[2]\n",
    "    # brand = last_line[4]\n",
    "    # dep = last_line[5]\n",
    "    # blinks_number = first_line[6] + last_line[6]\n",
    "    # result = [first_date, last_line[0], zone, group, brand, dep, blinks_number, status]\n",
    "    result = [last_date, zone, group, status]\n",
    "    return result\n",
    "\n",
    "\n",
    "def extracting_time(x):\n",
    "    year = x[0].year\n",
    "    month = x[0].month\n",
    "    WM = (x[0].day - 1) // 7 + 1\n",
    "    DM = x[0].day\n",
    "    DW = x[0].weekday()\n",
    "    Zone = x[1]\n",
    "    Sold = x[2]\n",
    "    return [year, month, WM, DM, DW, Zone, Sold]\n",
    "\n",
    "# Falta hacer la suma: \n",
    "def get_delta_time(keyValue):\n",
    "    # The list of blinks is in keyValue[1]:\n",
    "    list_blinks=keyValue[1]\n",
    "    # Sorting by time:\n",
    "    list_blinks.sort(key=itemgetter(0))\n",
    "    # Create an example_res:\n",
    "    example_res=range(0,len(list_blinks))\n",
    "    # Getting the list of blinks with dwelling time\n",
    "    for i in range(0,len(list_blinks)):\n",
    "        if i<len(list_blinks)-1:\n",
    "            example_res[i]=list(list_blinks[i])+[list_blinks[i+1][0]-list_blinks[i][0]]\n",
    "        else:\n",
    "            example_res[i]=list(list_blinks[i])+[datetime.timedelta(0)]\n",
    "    # Ordering it:        \n",
    "    example_res.sort(key=itemgetter(4))\n",
    "    # Chosing the one with \n",
    "    return (keyValue[0],example_res[-1])"
   ]
  },
  {
   "cell_type": "code",
   "execution_count": 10,
   "metadata": {
    "collapsed": false
   },
   "outputs": [
    {
     "name": "stdout",
     "output_type": "stream",
     "text": [
      "Number of blinks: 13173\n"
     ]
    }
   ],
   "source": [
    "sqlContext.sql(\n",
    "    \"CREATE TEMPORARY TABLE thingsTable USING com.stratio.datasource.mongodb OPTIONS (host 'localhost:27017', \"\n",
    "    \"database 'riot_main', collection 'thingSnapshotsSH', splitKey 'time', splitKeyType 'isoDate', \"\n",
    "    \"splitKeyMin '2016-01-01T00:00:00.000Z', splitKeyMax '2016-01-05T00:00:00.000Z' )\")\n",
    "\n",
    "# Extract all blinks from the Database:\n",
    "raw_data = sqlContext.sql(\n",
    "    \"SELECT * FROM thingsTable WHERE value.groupId=3 AND value.status.value='Sold'\")  # WHERE value.status.value = 'Sold'\") --AND value.status.value='Sold'\n",
    "print ('Number of blinks: ' + str(raw_data.count()))\n",
    "#print ('Document Example:    ' + str(raw_data.first()))"
   ]
  },
  {
   "cell_type": "code",
   "execution_count": 9,
   "metadata": {
    "collapsed": false
   },
   "outputs": [],
   "source": [
    "#test_data.coalesce(1, True).saveAsPickleFile('/tmp/BlinksZone3M')"
   ]
  },
  {
   "cell_type": "code",
   "execution_count": 343,
   "metadata": {
    "collapsed": false
   },
   "outputs": [
    {
     "name": "stdout",
     "output_type": "stream",
     "text": [
      "('AE1000000000000000489989', (datetime.datetime(2016, 1, 1, 0, 0, 41, 643000), 'IT', None, 1))\n"
     ]
    }
   ],
   "source": [
    "# Getting the test data:\n",
    "test_data= raw_data.map(parse).map(lambda x: (x[0], (x[1], x[2], x[3], x[4])))\n",
    "print(test_data.first())"
   ]
  },
  {
   "cell_type": "code",
   "execution_count": 334,
   "metadata": {
    "collapsed": true
   },
   "outputs": [],
   "source": [
    "# Getting the zone by dwell-time:\n",
    "grouped=test_data.groupByKey().map(lambda x : (x[0], list(x[1])))   # Cambiar Group by Key por ReduceByKey\n",
    "groupedDwellTime=grouped.map(get_delta_time)"
   ]
  },
  {
   "cell_type": "code",
   "execution_count": 327,
   "metadata": {
    "collapsed": false
   },
   "outputs": [
    {
     "name": "stdout",
     "output_type": "stream",
     "text": [
      "Number of Things Sold: 5411\n",
      "Thing Sold Example :    ('AE1000000000000000574319', datetime.date(2016, 1, 2), 'Stock Room 1', None, 1)\n"
     ]
    }
   ],
   "source": [
    "# Getting the rows and extract as (serial, initial_date, end_date, zone, group, status(binary))\n",
    "SerialDateZoneGroupStatusRdd=groupedDwellTime.map(lambda x:(x[0],x[1][0].date(),x[1][1],x[1][2],x[1][3]))\n",
    "print ('Number of Things Sold: ' + str(SerialDateZoneGroupStatusRdd.count()))\n",
    "print ('Thing Sold Example :    ' + str(SerialDateZoneGroupStatusRdd.first()))"
   ]
  },
  {
   "cell_type": "code",
   "execution_count": 341,
   "metadata": {
    "collapsed": false
   },
   "outputs": [
    {
     "name": "stdout",
     "output_type": "stream",
     "text": [
      "Number of Zones Sold :76\n",
      "Zone Example :    (datetime.date(2016, 1, 2), 'IT Accessories', 48)\n"
     ]
    }
   ],
   "source": [
    "# Get the number of objects sold per Zone per day:\n",
    "DateZoneStatusRdd = SerialDateZoneGroupStatusRdd.map(\n",
    "    lambda x: ((x[1], x[2]), x[-1])).reduceByKey(add).map(lambda x: (x[0][0], x[0][1], x[1]))\n",
    "\n",
    "print ('Number of Zones Sold :' + str(DateZoneStatusRdd.count()))\n",
    "print ('Zone Example :    ' + str(DateZoneStatusRdd.first()))"
   ]
  },
  {
   "cell_type": "code",
   "execution_count": 342,
   "metadata": {
    "collapsed": false
   },
   "outputs": [
    {
     "name": "stdout",
     "output_type": "stream",
     "text": [
      "Number of registers : 76\n",
      "ZoneData Example :    [2016, 1, 1, 2, 5, 'IT Accessories', 48]\n"
     ]
    }
   ],
   "source": [
    "# Extracting Features to RDDs:\n",
    "ZoneData = DateZoneStatusRdd.map(extracting_time)\n",
    "print ('Number of registers : ' + str(ZoneData.count()))\n",
    "print ('ZoneData Example :    ' + str(ZoneData.first()))"
   ]
  },
  {
   "cell_type": "code",
   "execution_count": null,
   "metadata": {
    "collapsed": true
   },
   "outputs": [],
   "source": []
  },
  {
   "cell_type": "markdown",
   "metadata": {},
   "source": [
    "## Sold per Zone per Group: NO ES NECESARIO"
   ]
  },
  {
   "cell_type": "code",
   "execution_count": 9,
   "metadata": {
    "collapsed": false
   },
   "outputs": [
    {
     "name": "stdout",
     "output_type": "stream",
     "text": [
      "Number of things Sold per group per zone: [(datetime.date(2016, 1, 1), 'HVS', 'IT Acc Promotion', 1), (datetime.date(2016, 1, 1), 'Photography', 'Momentos', 2), (datetime.date(2016, 1, 1), 'IT Accessories', 'Networking', 4), (datetime.date(2016, 1, 1), 'Photography', 'Charger', 1), (datetime.date(2016, 1, 1), 'Gaming', 'PDA and Handheld Accessories', 5)]\n",
      "Zone Group Example :    (datetime.date(2016, 1, 1), 'HVS', 'IT Acc Promotion', 1)\n"
     ]
    }
   ],
   "source": [
    "# Get the number of objects sold per Zone per Group per day:\n",
    "DateZoneGroupStatusRdd = SerialDateZoneGroupStatusRdd.reduceByKey(summarize_serial).map(\n",
    "    lambda x: ((x[1][0].date(), x[1][1], x[1][2]), x[1][3])).reduceByKey(add).map(\n",
    "    lambda x: (x[0][0], x[0][1], x[0][2],\n",
    "               x[1]))\n",
    "print ('Number of things Sold per group per zone: ' + str(DateZoneGroupStatusRdd.take(5)))\n",
    "print ('Zone Group Example :    ' + str(DateZoneGroupStatusRdd.first()))"
   ]
  },
  {
   "cell_type": "code",
   "execution_count": null,
   "metadata": {
    "collapsed": true
   },
   "outputs": [],
   "source": []
  },
  {
   "cell_type": "code",
   "execution_count": 12,
   "metadata": {
    "collapsed": false
   },
   "outputs": [],
   "source": [
    "ZoneData.coalesce(1, True).saveAsPickleFile('/tmp/')"
   ]
  },
  {
   "cell_type": "code",
   "execution_count": 14,
   "metadata": {
    "collapsed": false
   },
   "outputs": [],
   "source": [
    "ZoneData.coalesce(1, True).saveAsTextFile('/tmp/ZoneObjSoldTEXt2D_v2')"
   ]
  },
  {
   "cell_type": "code",
   "execution_count": null,
   "metadata": {
    "collapsed": true
   },
   "outputs": [],
   "source": []
  }
 ],
 "metadata": {
  "kernelspec": {
   "display_name": "Python 2",
   "language": "python",
   "name": "python2"
  },
  "language_info": {
   "codemirror_mode": {
    "name": "ipython",
    "version": 2
   },
   "file_extension": ".py",
   "mimetype": "text/x-python",
   "name": "python",
   "nbconvert_exporter": "python",
   "pygments_lexer": "ipython2",
   "version": "2.7.11"
  }
 },
 "nbformat": 4,
 "nbformat_minor": 0
}
